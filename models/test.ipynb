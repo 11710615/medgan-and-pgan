{
 "cells": [
  {
   "cell_type": "code",
   "execution_count": 13,
   "metadata": {},
   "outputs": [],
   "source": [
    "import os\n",
    "import cv2\n",
    "model = \"mri_wo_swin\"  #2950\n",
    "TP = [\"real_B\", \"fake_B\"]\n",
    "test_epoch = \"/test_latest/\"\n",
    "rootdir = \"/mnt/pank/pytorch-CycleGAN-and-pix2pix/results/\"\n",
    "for tp in TP:\n",
    "    if not os.path.isdir(rootdir+model+test_epoch+tp):\n",
    "        os.makedirs(rootdir+model+test_epoch+tp)\n",
    "\n",
    "    img_dir = os.listdir(rootdir+model+test_epoch+\"images\")\n",
    "    for i in range(len(img_dir)):\n",
    "        if img_dir[i][-10:-4] == tp:\n",
    "            img = cv2.imread(rootdir+model+test_epoch+\"images\"+\"/\"+img_dir[i])\n",
    "            temp = img_dir[i]\n",
    "            cv2.imwrite(rootdir+model+test_epoch+tp+\"/\"+temp,img)"
   ]
  },
  {
   "cell_type": "code",
   "execution_count": 3,
   "metadata": {},
   "outputs": [
    {
     "name": "stdout",
     "output_type": "stream",
     "text": [
      "* ['6A1_90_real_B.png']\n",
      "*** ['3A1_90_fake_B.png']\n",
      "MSE =  247.03922526041666\n",
      "PSNR =  24.20314444200827\n",
      "SSIM =  0.827280496776632\n"
     ]
    }
   ],
   "source": [
    "from skimage.metrics import mean_squared_error as mse\n",
    "from skimage.metrics import peak_signal_noise_ratio as psnr\n",
    "from skimage.metrics import structural_similarity as ssim\n",
    "\n",
    "import cv2\n",
    "import os\n",
    "import numpy as np\n",
    "# import pytorch_fid.fid_score as fid\n",
    "\n",
    "def evaluation(dir1, dir2):\n",
    "    img_dir1 = os.listdir(dir1)\n",
    "    img_dir2 = os.listdir(dir2)\n",
    "\n",
    "    img_dir1.sort(key=lambda x: x[:-11])\n",
    "    img_dir2.sort(key=lambda x: x[:-11])\n",
    "    print('*',img_dir1[0:10])\n",
    "    print('***',img_dir2[0:10])\n",
    "    \n",
    "    mse_value = 0\n",
    "    psnr_value = mse_value\n",
    "    ssim_value = mse_value\n",
    "    \n",
    "    for i in range(0,len(img_dir1)):\n",
    "        img1 = cv2.imread(dir1+\"/\"+img_dir1[i])\n",
    "        img2 = cv2.imread(dir2+\"/\"+img_dir2[i])\n",
    "        mse_value = mse(img1, img2) + mse_value\n",
    "        psnr_value = psnr(img1, img2, data_range=255) +psnr_value\n",
    "        ssim_value = ssim(img1, img2, multichannel=True) + ssim_value\n",
    "\n",
    "    print(\"MSE = \", mse_value/len(img_dir1))\n",
    "    print(\"PSNR = \", psnr_value/len(img_dir1))\n",
    "    print(\"SSIM = \", ssim_value/len(img_dir1))\n",
    "\n",
    "    return mse_value/len(img_dir1), psnr_value/len(img_dir1), ssim_value/len(img_dir1)\n",
    "\n",
    "model = \"test\"#\"ixi_SwinG_adj_id_0\"\n",
    "test_epoch = \"/test_latest/\"\n",
    "rootdir = \"/mnt/pank/pytorch-CycleGAN-and-pix2pix/results/\"\n",
    "real_dir = rootdir+model+\"/real\"\n",
    "fake_dir = rootdir+model+\"/fake\"\n",
    "mse, psnr,ssim = evaluation(real_dir,fake_dir)\n"
   ]
  },
  {
   "cell_type": "code",
   "execution_count": 1,
   "metadata": {},
   "outputs": [],
   "source": [
    "import numpy as np\n",
    "from PIL import Image\n",
    "import torch\n",
    "import cv2\n",
    "import os\n",
    "\n",
    "model = \"mriv4_pix2pix\"\n",
    "test_epoch = \"/test_latest/\"\n",
    "rootdir = \"/mnt/pank/pytorch-CycleGAN-and-pix2pix/results/\"\n",
    "fake_dir = rootdir+model+test_epoch+\"fake_B\"\n",
    "real_dir = rootdir+model+test_epoch+\"real_B\"\n",
    "fake = cv2.imread(os.path.join(fake_dir, 'A1_70_fake_B.png'))\n",
    "real = cv2.imread(os.path.join(real_dir, 'A1_70_real_B.png'))\n",
    "\n",
    "diff1 = np.sum(fake[:,:,0]-fake[:,:,1])\n",
    "diff2 = np.sum(real[:,:,0]-real[:,:,1])\n",
    "\n",
    "dir = \"/mnt/pank/pytorch-CycleGAN-and-pix2pix/checkpoints/mriv4_SwinG_neigb_2_id/web/images/epoch006_fake_B.png\"\n",
    "img_repeat = cv2.imread(dir)\n",
    "diff3 = np.sum(img_repeat[:,:,0]-img_repeat[:,:,1])"
   ]
  },
  {
   "cell_type": "code",
   "execution_count": 8,
   "metadata": {},
   "outputs": [],
   "source": [
    "import torch\n",
    "from swinD import Swin_D\n",
    "import torch.nn as nn\n",
    "from networks import NLayerDiscriminator\n",
    "\n",
    "img = torch.zeros([1,3,256,256]) \n",
    "net = Swin_D(img_size=256, patch_size=4, in_chans=3, num_classes=1,\n",
    "                 embed_dim=96, depths=[2, 8, 2], num_heads=[3, 6, 12],\n",
    "                 window_size=8, mlp_ratio=4., qkv_bias=True, qk_scale=None,\n",
    "                 drop_rate=0., attn_drop_rate=0., drop_path_rate=0.1,\n",
    "                 norm_layer=nn.LayerNorm, ape=False, patch_norm=True,\n",
    "                 use_checkpoint=False)\n",
    "net1 = NLayerDiscriminator(input_nc=3, n_layers=3)\n",
    "a = net(img)\n",
    "b = net1(img)"
   ]
  },
  {
   "cell_type": "code",
   "execution_count": 48,
   "metadata": {},
   "outputs": [],
   "source": [
    "import cv2\n",
    "import numpy as np\n",
    "import os\n",
    "\n",
    "rootdir = \"/mnt/pank/pytorch-CycleGAN-and-pix2pix/results/IXI_SwinG_adj_id_D/test_latest\"\n",
    "dir1 = rootdir+\"/real_B\"\n",
    "dir2 = rootdir+\"/fake_B\"\n",
    "img_dir1 = os.listdir(dir1)\n",
    "img_dir2 = os.listdir(dir2)\n",
    "\n",
    "img_dir1.sort(key=lambda x: x[:-11])\n",
    "img_dir2.sort(key=lambda x: x[:-11])\n",
    "best_result1 = []\n",
    "idx1 = []\n",
    "for i in range(len(img_dir1)):\n",
    "    real = cv2.imread(dir1+\"/\"+img_dir1[i],0)\n",
    "    fake = cv2.imread(dir2+\"/\"+img_dir2[i],0)\n",
    "    h,w = real.shape\n",
    "    error = np.abs(real - fake)\n",
    "    k = 0\n",
    "    for m in range(h):\n",
    "        for n in range(w):\n",
    "            if error[m,n] > 200:\n",
    "                k=k+1\n",
    "    if k<20000 and k>10000:\n",
    "        best_result1.append(k)\n",
    "        idx1.append(img_dir2[i])\n"
   ]
  },
  {
   "cell_type": "code",
   "execution_count": 57,
   "metadata": {},
   "outputs": [
    {
     "data": {
      "text/plain": [
       "'C44_104_fake_B.png'"
      ]
     },
     "execution_count": 57,
     "metadata": {},
     "output_type": "execute_result"
    }
   ],
   "source": [
    "a= min(best_result)\n",
    "idx[23]"
   ]
  },
  {
   "cell_type": "code",
   "execution_count": 10,
   "metadata": {},
   "outputs": [
    {
     "ename": "KeyError",
     "evalue": "'weight'",
     "output_type": "error",
     "traceback": [
      "\u001b[0;31m---------------------------------------------------------------------------\u001b[0m",
      "\u001b[0;31mKeyError\u001b[0m                                  Traceback (most recent call last)",
      "\u001b[0;32m<ipython-input-10-d909f7f5310f>\u001b[0m in \u001b[0;36m<module>\u001b[0;34m\u001b[0m\n\u001b[1;32m      5\u001b[0m \u001b[0mfeatures\u001b[0m \u001b[0;34m=\u001b[0m \u001b[0mtorch\u001b[0m\u001b[0;34m.\u001b[0m\u001b[0mzeros\u001b[0m\u001b[0;34m(\u001b[0m\u001b[0;34m[\u001b[0m\u001b[0;36m1\u001b[0m\u001b[0;34m,\u001b[0m\u001b[0;36m3\u001b[0m\u001b[0;34m,\u001b[0m\u001b[0;36m16\u001b[0m\u001b[0;34m,\u001b[0m\u001b[0;36m16\u001b[0m\u001b[0;34m]\u001b[0m\u001b[0;34m)\u001b[0m\u001b[0;34m\u001b[0m\u001b[0;34m\u001b[0m\u001b[0m\n\u001b[1;32m      6\u001b[0m \u001b[0mfeatures\u001b[0m\u001b[0;34m[\u001b[0m\u001b[0;36m0\u001b[0m\u001b[0;34m,\u001b[0m\u001b[0;36m0\u001b[0m\u001b[0;34m,\u001b[0m\u001b[0;36m0\u001b[0m\u001b[0;34m,\u001b[0m\u001b[0;36m0\u001b[0m\u001b[0;34m]\u001b[0m \u001b[0;34m=\u001b[0m \u001b[0;36m1\u001b[0m\u001b[0;34m\u001b[0m\u001b[0;34m\u001b[0m\u001b[0m\n\u001b[0;32m----> 7\u001b[0;31m \u001b[0ma\u001b[0m \u001b[0;34m=\u001b[0m \u001b[0;34m[\u001b[0m\u001b[0msn\u001b[0m\u001b[0;34m(\u001b[0m\u001b[0mnn\u001b[0m\u001b[0;34m.\u001b[0m\u001b[0mLeakyReLU\u001b[0m\u001b[0;34m(\u001b[0m\u001b[0;36m0.2\u001b[0m\u001b[0;34m,\u001b[0m \u001b[0;32mTrue\u001b[0m\u001b[0;34m)\u001b[0m\u001b[0;34m)\u001b[0m\u001b[0;34m]\u001b[0m\u001b[0;34m\u001b[0m\u001b[0;34m\u001b[0m\u001b[0m\n\u001b[0m\u001b[1;32m      8\u001b[0m \u001b[0mb\u001b[0m \u001b[0;34m=\u001b[0m \u001b[0mnn\u001b[0m\u001b[0;34m.\u001b[0m\u001b[0mSequential\u001b[0m\u001b[0;34m(\u001b[0m\u001b[0;34m*\u001b[0m\u001b[0ma\u001b[0m\u001b[0;34m)\u001b[0m\u001b[0;34m\u001b[0m\u001b[0;34m\u001b[0m\u001b[0m\n\u001b[1;32m      9\u001b[0m \u001b[0mb\u001b[0m\u001b[0;34m(\u001b[0m\u001b[0mfeatures\u001b[0m\u001b[0;34m)\u001b[0m\u001b[0;34m\u001b[0m\u001b[0;34m\u001b[0m\u001b[0m\n",
      "\u001b[0;32m~/anaconda3/envs/py36_j/lib/python3.6/site-packages/torch/nn/utils/spectral_norm.py\u001b[0m in \u001b[0;36mspectral_norm\u001b[0;34m(module, name, n_power_iterations, eps, dim)\u001b[0m\n\u001b[1;32m    278\u001b[0m         \u001b[0;32melse\u001b[0m\u001b[0;34m:\u001b[0m\u001b[0;34m\u001b[0m\u001b[0;34m\u001b[0m\u001b[0m\n\u001b[1;32m    279\u001b[0m             \u001b[0mdim\u001b[0m \u001b[0;34m=\u001b[0m \u001b[0;36m0\u001b[0m\u001b[0;34m\u001b[0m\u001b[0;34m\u001b[0m\u001b[0m\n\u001b[0;32m--> 280\u001b[0;31m     \u001b[0mSpectralNorm\u001b[0m\u001b[0;34m.\u001b[0m\u001b[0mapply\u001b[0m\u001b[0;34m(\u001b[0m\u001b[0mmodule\u001b[0m\u001b[0;34m,\u001b[0m \u001b[0mname\u001b[0m\u001b[0;34m,\u001b[0m \u001b[0mn_power_iterations\u001b[0m\u001b[0;34m,\u001b[0m \u001b[0mdim\u001b[0m\u001b[0;34m,\u001b[0m \u001b[0meps\u001b[0m\u001b[0;34m)\u001b[0m\u001b[0;34m\u001b[0m\u001b[0;34m\u001b[0m\u001b[0m\n\u001b[0m\u001b[1;32m    281\u001b[0m     \u001b[0;32mreturn\u001b[0m \u001b[0mmodule\u001b[0m\u001b[0;34m\u001b[0m\u001b[0;34m\u001b[0m\u001b[0m\n\u001b[1;32m    282\u001b[0m \u001b[0;34m\u001b[0m\u001b[0m\n",
      "\u001b[0;32m~/anaconda3/envs/py36_j/lib/python3.6/site-packages/torch/nn/utils/spectral_norm.py\u001b[0m in \u001b[0;36mapply\u001b[0;34m(module, name, n_power_iterations, dim, eps)\u001b[0m\n\u001b[1;32m    120\u001b[0m \u001b[0;34m\u001b[0m\u001b[0m\n\u001b[1;32m    121\u001b[0m         \u001b[0mfn\u001b[0m \u001b[0;34m=\u001b[0m \u001b[0mSpectralNorm\u001b[0m\u001b[0;34m(\u001b[0m\u001b[0mname\u001b[0m\u001b[0;34m,\u001b[0m \u001b[0mn_power_iterations\u001b[0m\u001b[0;34m,\u001b[0m \u001b[0mdim\u001b[0m\u001b[0;34m,\u001b[0m \u001b[0meps\u001b[0m\u001b[0;34m)\u001b[0m\u001b[0;34m\u001b[0m\u001b[0;34m\u001b[0m\u001b[0m\n\u001b[0;32m--> 122\u001b[0;31m         \u001b[0mweight\u001b[0m \u001b[0;34m=\u001b[0m \u001b[0mmodule\u001b[0m\u001b[0;34m.\u001b[0m\u001b[0m_parameters\u001b[0m\u001b[0;34m[\u001b[0m\u001b[0mname\u001b[0m\u001b[0;34m]\u001b[0m\u001b[0;34m\u001b[0m\u001b[0;34m\u001b[0m\u001b[0m\n\u001b[0m\u001b[1;32m    123\u001b[0m         \u001b[0;32mif\u001b[0m \u001b[0mweight\u001b[0m \u001b[0;32mis\u001b[0m \u001b[0;32mNone\u001b[0m\u001b[0;34m:\u001b[0m\u001b[0;34m\u001b[0m\u001b[0;34m\u001b[0m\u001b[0m\n\u001b[1;32m    124\u001b[0m             \u001b[0;32mraise\u001b[0m \u001b[0mValueError\u001b[0m\u001b[0;34m(\u001b[0m\u001b[0;34mf'`SpectralNorm` cannot be applied as parameter `{name}` is None'\u001b[0m\u001b[0;34m)\u001b[0m\u001b[0;34m\u001b[0m\u001b[0;34m\u001b[0m\u001b[0m\n",
      "\u001b[0;31mKeyError\u001b[0m: 'weight'"
     ]
    }
   ],
   "source": [
    "import torch\n",
    "import torch.nn as nn\n",
    "from torch.nn.utils import spectral_norm as sn\n",
    "\n",
    "features = torch.zeros([1,3,16,16])\n",
    "features[0,0,0,0] = 1\n",
    "a = [sn(nn.Conv2d(3, 6, kernel_size=3, stride=2, padding=3)), sn(nn.LeakyReLU(0.2, True))]\n",
    "b = nn.Sequential(*a)\n",
    "b(features)"
   ]
  },
  {
   "cell_type": "code",
   "execution_count": 4,
   "metadata": {},
   "outputs": [
    {
     "name": "stdout",
     "output_type": "stream",
     "text": [
      "Conv2d(3, 64, kernel_size=(3, 3), stride=(1, 1), padding=(1, 1))\n",
      "ReLU(inplace=True)\n",
      "Conv2d(64, 64, kernel_size=(3, 3), stride=(1, 1), padding=(1, 1))\n",
      "ReLU(inplace=True)\n",
      "MaxPool2d(kernel_size=2, stride=2, padding=0, dilation=1, ceil_mode=False)\n",
      "Conv2d(64, 128, kernel_size=(3, 3), stride=(1, 1), padding=(1, 1))\n",
      "ReLU(inplace=True)\n",
      "Conv2d(128, 128, kernel_size=(3, 3), stride=(1, 1), padding=(1, 1))\n",
      "ReLU(inplace=True)\n",
      "MaxPool2d(kernel_size=2, stride=2, padding=0, dilation=1, ceil_mode=False)\n",
      "Conv2d(128, 256, kernel_size=(3, 3), stride=(1, 1), padding=(1, 1))\n",
      "ReLU(inplace=True)\n",
      "Conv2d(256, 256, kernel_size=(3, 3), stride=(1, 1), padding=(1, 1))\n",
      "ReLU(inplace=True)\n",
      "Conv2d(256, 256, kernel_size=(3, 3), stride=(1, 1), padding=(1, 1))\n",
      "ReLU(inplace=True)\n",
      "MaxPool2d(kernel_size=2, stride=2, padding=0, dilation=1, ceil_mode=False)\n",
      "Conv2d(256, 512, kernel_size=(3, 3), stride=(1, 1), padding=(1, 1))\n",
      "ReLU(inplace=True)\n",
      "Conv2d(512, 512, kernel_size=(3, 3), stride=(1, 1), padding=(1, 1))\n",
      "ReLU(inplace=True)\n",
      "Conv2d(512, 512, kernel_size=(3, 3), stride=(1, 1), padding=(1, 1))\n",
      "ReLU(inplace=True)\n",
      "MaxPool2d(kernel_size=2, stride=2, padding=0, dilation=1, ceil_mode=False)\n",
      "Conv2d(512, 512, kernel_size=(3, 3), stride=(1, 1), padding=(1, 1))\n",
      "ReLU(inplace=True)\n",
      "Conv2d(512, 512, kernel_size=(3, 3), stride=(1, 1), padding=(1, 1))\n",
      "ReLU(inplace=True)\n",
      "Conv2d(512, 512, kernel_size=(3, 3), stride=(1, 1), padding=(1, 1))\n",
      "ReLU(inplace=True)\n",
      "MaxPool2d(kernel_size=2, stride=2, padding=0, dilation=1, ceil_mode=False)\n"
     ]
    }
   ],
   "source": [
    "import torch\n",
    "import torchvision\n",
    "\n",
    "x=torch.zeros([1,3,256,256])\n",
    "vgg19 = torchvision.models.vgg16(pretrained=True)\n",
    "chosed = [1,6,11,20,29]\n",
    "out = x\n",
    "for i, layer in enumerate(vgg19.features):\n",
    "    out = layer(out)\n"
   ]
  },
  {
   "cell_type": "code",
   "execution_count": 6,
   "metadata": {},
   "outputs": [
    {
     "data": {
      "text/plain": [
       "True"
      ]
     },
     "execution_count": 6,
     "metadata": {},
     "output_type": "execute_result"
    }
   ],
   "source": [
    "a = True\n",
    "b = False\n",
    "a or b"
   ]
  }
 ],
 "metadata": {
  "interpreter": {
   "hash": "027264d45a41d0cc3bb43f58271643bdc7136799982ffb1d83cea42f0b437779"
  },
  "kernelspec": {
   "display_name": "Python 3.6.13 64-bit ('py36_1': conda)",
   "language": "python",
   "name": "python3"
  },
  "language_info": {
   "codemirror_mode": {
    "name": "ipython",
    "version": 3
   },
   "file_extension": ".py",
   "mimetype": "text/x-python",
   "name": "python",
   "nbconvert_exporter": "python",
   "pygments_lexer": "ipython3",
   "version": "3.6.13"
  },
  "orig_nbformat": 4
 },
 "nbformat": 4,
 "nbformat_minor": 2
}
